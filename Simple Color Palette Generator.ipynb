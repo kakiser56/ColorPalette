{
 "cells": [
  {
   "cell_type": "code",
   "execution_count": 1,
   "id": "39d7ac80",
   "metadata": {},
   "outputs": [],
   "source": [
    "import openai"
   ]
  },
  {
   "cell_type": "code",
   "execution_count": 2,
   "id": "dadde237",
   "metadata": {},
   "outputs": [],
   "source": [
    "import json"
   ]
  },
  {
   "cell_type": "code",
   "execution_count": 3,
   "id": "96de38cc",
   "metadata": {},
   "outputs": [],
   "source": [
    "from dotenv import dotenv_values"
   ]
  },
  {
   "cell_type": "code",
   "execution_count": 4,
   "id": "3b630436",
   "metadata": {},
   "outputs": [],
   "source": [
    "config = dotenv_values(\".env\")"
   ]
  },
  {
   "cell_type": "code",
   "execution_count": 5,
   "id": "b3cb65c7",
   "metadata": {},
   "outputs": [],
   "source": [
    "openai.api_key = config[\"OPENAI_API_KEY\"]"
   ]
  },
  {
   "cell_type": "code",
   "execution_count": 6,
   "id": "3d404f6b",
   "metadata": {},
   "outputs": [],
   "source": [
    "from IPython.display import Markdown, display\n",
    "\n",
    "def display_colors(colors):\n",
    "    display(Markdown(\" \".join(\n",
    "        f\"<span style='color: {color}'>{chr(9608) * 4}</span>\"\n",
    "        for color in colors\n",
    "    )))"
   ]
  },
  {
   "cell_type": "code",
   "execution_count": 7,
   "id": "f947187d",
   "metadata": {},
   "outputs": [],
   "source": [
    "def get_and_render_colors(msg):\n",
    "    prompt = f\"\"\"\n",
    "    You are a color palette generating assistant that responds to text prompts for color palettes\n",
    "    Your should generate color palettes that fit the theme, mood, or instructions in the prompt.\n",
    "    The palettes should be between 2 and 8 colors.\n",
    "\n",
    "    Q: Convert the following verbal description of a color palette into a list of colors: The Mediterranean Sea\n",
    "    A: [\"#006699\", \"#66CCCC\", \"#F0E68C\", \"#008000\", \"#F08080\"]\n",
    "\n",
    "    Q: Convert the following verbal description of a color palette into a list of colors: sage, nature, earth\n",
    "    A: [\"#EDF1D6\", \"#9DC08B\", \"#609966\", \"#40513B\"]\n",
    "\n",
    "\n",
    "    Desired Format: a JSON array of hexadecimal color codes\n",
    "\n",
    "    Q: Convert the following verbal description of a color palette into a list of colors: {msg} \n",
    "    A:\n",
    "    \"\"\"\n",
    "\n",
    "    response = openai.Completion.create(\n",
    "        prompt=prompt,\n",
    "        model=\"text-davinci-003\",\n",
    "        max_tokens=200,\n",
    "    )\n",
    "\n",
    "    colors = json.loads(response[\"choices\"][0][\"text\"])\n",
    "    display_colors(colors)"
   ]
  },
  {
   "cell_type": "code",
   "execution_count": 8,
   "id": "56c0f584",
   "metadata": {},
   "outputs": [
    {
     "data": {
      "text/markdown": [
       "<span style='color: #4285F4'>████</span> <span style='color: #34A853'>████</span> <span style='color: #FBBC05'>████</span> <span style='color: #EA4335'>████</span>"
      ],
      "text/plain": [
       "<IPython.core.display.Markdown object>"
      ]
     },
     "metadata": {},
     "output_type": "display_data"
    }
   ],
   "source": [
    "get_and_render_colors(\"4 Google brand colors\")"
   ]
  },
  {
   "cell_type": "code",
   "execution_count": 9,
   "id": "d2d1acc6",
   "metadata": {},
   "outputs": [
    {
     "data": {
      "text/markdown": [
       "<span style='color: #FFA500'>████</span> <span style='color: #A07836'>████</span> <span style='color: #F5EDE1'>████</span> <span style='color: #444444'>████</span>"
      ],
      "text/plain": [
       "<IPython.core.display.Markdown object>"
      ]
     },
     "metadata": {},
     "output_type": "display_data"
    }
   ],
   "source": [
    "get_and_render_colors(\"Thanksgiving color palette\")"
   ]
  },
  {
   "cell_type": "code",
   "execution_count": null,
   "id": "dce16fce",
   "metadata": {},
   "outputs": [],
   "source": []
  },
  {
   "cell_type": "code",
   "execution_count": null,
   "id": "7ae3992d",
   "metadata": {},
   "outputs": [],
   "source": []
  }
 ],
 "metadata": {
  "kernelspec": {
   "display_name": "Python 3",
   "language": "python",
   "name": "python3"
  },
  "language_info": {
   "codemirror_mode": {
    "name": "ipython",
    "version": 3
   },
   "file_extension": ".py",
   "mimetype": "text/x-python",
   "name": "python",
   "nbconvert_exporter": "python",
   "pygments_lexer": "ipython3",
   "version": "3.8.8"
  }
 },
 "nbformat": 4,
 "nbformat_minor": 5
}
